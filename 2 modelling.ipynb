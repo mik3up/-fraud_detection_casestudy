{
 "cells": [
  {
   "cell_type": "code",
   "execution_count": 455,
   "metadata": {},
   "outputs": [],
   "source": [
    "import pandas as pd\n",
    "import numpy as np\n",
    "pd.set_option('display.precision',3)\n",
    "pd.options.display.float_format = '{:20,.2f}'.format\n",
    "from sklearn.metrics import confusion_matrix,classification_report\n",
    "from sklearn.ensemble import RandomForestClassifier,GradientBoostingClassifier\n",
    "from sklearn.model_selection import train_test_split\n",
    "from sklearn.linear_model import LogisticRegression\n",
    "from sklearn.preprocessing import StandardScaler,LabelEncoder\n",
    "import matplotlib.pyplot as plt\n",
    "%matplotlib inline\n",
    "import seaborn as sns"
   ]
  },
  {
   "cell_type": "code",
   "execution_count": 432,
   "metadata": {},
   "outputs": [],
   "source": [
    "data = pd.read_json(\"data/data.json\")"
   ]
  },
  {
   "cell_type": "markdown",
   "metadata": {},
   "source": [
    "create label for Fraud"
   ]
  },
  {
   "cell_type": "code",
   "execution_count": 434,
   "metadata": {},
   "outputs": [],
   "source": [
    "data[\"Fraud\"] = data[\"acct_type\"].apply(lambda x: 1 if x ==\"fraudster\" or x==\"fraudster_att\" or x==\"fraudster_event\" else 0)\n",
    "\n"
   ]
  },
  {
   "cell_type": "markdown",
   "metadata": {},
   "source": [
    "compare numerical value of Fraud vs not Fraud"
   ]
  },
  {
   "cell_type": "code",
   "execution_count": 443,
   "metadata": {},
   "outputs": [],
   "source": [
    "compare = pd.DataFrame()"
   ]
  },
  {
   "cell_type": "code",
   "execution_count": 444,
   "metadata": {},
   "outputs": [],
   "source": [
    "compare[\"fraud_mean\"] = data[data[\"Fraud\"] == 1].describe().iloc[1]\n",
    "compare[\"not_fraud_mean\"] = data[data[\"Fraud\"] == 0].describe().iloc[1]\n",
    "compare[\"diff\"]= np.abs(compare[\"fraud_mean\"] -compare[\"not_fraud_mean\"] ).astype(float)"
   ]
  },
  {
   "cell_type": "code",
   "execution_count": 440,
   "metadata": {},
   "outputs": [
    {
     "data": {
      "text/html": [
       "<div>\n",
       "<style scoped>\n",
       "    .dataframe tbody tr th:only-of-type {\n",
       "        vertical-align: middle;\n",
       "    }\n",
       "\n",
       "    .dataframe tbody tr th {\n",
       "        vertical-align: top;\n",
       "    }\n",
       "\n",
       "    .dataframe thead th {\n",
       "        text-align: right;\n",
       "    }\n",
       "</style>\n",
       "<table border=\"1\" class=\"dataframe\">\n",
       "  <thead>\n",
       "    <tr style=\"text-align: right;\">\n",
       "      <th></th>\n",
       "      <th>fraud_mean</th>\n",
       "      <th>premium_mean</th>\n",
       "    </tr>\n",
       "  </thead>\n",
       "  <tbody>\n",
       "    <tr>\n",
       "      <th>approx_payout_date</th>\n",
       "      <td>1,347,687,343.16</td>\n",
       "      <td>1,351,254,483.07</td>\n",
       "    </tr>\n",
       "    <tr>\n",
       "      <th>body_length</th>\n",
       "      <td>1,508.89</td>\n",
       "      <td>3,886.99</td>\n",
       "    </tr>\n",
       "    <tr>\n",
       "      <th>channels</th>\n",
       "      <td>4.15</td>\n",
       "      <td>6.38</td>\n",
       "    </tr>\n",
       "    <tr>\n",
       "      <th>delivery_method</th>\n",
       "      <td>0.07</td>\n",
       "      <td>0.48</td>\n",
       "    </tr>\n",
       "    <tr>\n",
       "      <th>event_created</th>\n",
       "      <td>1,345,333,444.02</td>\n",
       "      <td>1,345,873,604.53</td>\n",
       "    </tr>\n",
       "    <tr>\n",
       "      <th>event_end</th>\n",
       "      <td>1,347,255,379.35</td>\n",
       "      <td>1,350,822,491.63</td>\n",
       "    </tr>\n",
       "    <tr>\n",
       "      <th>event_published</th>\n",
       "      <td>1,318,542,205.95</td>\n",
       "      <td>1,342,905,384.97</td>\n",
       "    </tr>\n",
       "    <tr>\n",
       "      <th>event_start</th>\n",
       "      <td>1,346,777,043.62</td>\n",
       "      <td>1,350,544,896.48</td>\n",
       "    </tr>\n",
       "    <tr>\n",
       "      <th>fb_published</th>\n",
       "      <td>0.02</td>\n",
       "      <td>0.14</td>\n",
       "    </tr>\n",
       "    <tr>\n",
       "      <th>gts</th>\n",
       "      <td>1,911.21</td>\n",
       "      <td>2,481.68</td>\n",
       "    </tr>\n",
       "    <tr>\n",
       "      <th>has_analytics</th>\n",
       "      <td>0.00</td>\n",
       "      <td>0.08</td>\n",
       "    </tr>\n",
       "    <tr>\n",
       "      <th>has_header</th>\n",
       "      <td>0.07</td>\n",
       "      <td>0.21</td>\n",
       "    </tr>\n",
       "    <tr>\n",
       "      <th>has_logo</th>\n",
       "      <td>0.65</td>\n",
       "      <td>0.86</td>\n",
       "    </tr>\n",
       "    <tr>\n",
       "      <th>name_length</th>\n",
       "      <td>29.98</td>\n",
       "      <td>42.78</td>\n",
       "    </tr>\n",
       "    <tr>\n",
       "      <th>num_order</th>\n",
       "      <td>4.53</td>\n",
       "      <td>30.34</td>\n",
       "    </tr>\n",
       "    <tr>\n",
       "      <th>num_payouts</th>\n",
       "      <td>0.58</td>\n",
       "      <td>37.04</td>\n",
       "    </tr>\n",
       "    <tr>\n",
       "      <th>object_id</th>\n",
       "      <td>4,700,036.12</td>\n",
       "      <td>4,514,622.62</td>\n",
       "    </tr>\n",
       "    <tr>\n",
       "      <th>org_facebook</th>\n",
       "      <td>1.04</td>\n",
       "      <td>8.63</td>\n",
       "    </tr>\n",
       "    <tr>\n",
       "      <th>org_twitter</th>\n",
       "      <td>0.29</td>\n",
       "      <td>4.69</td>\n",
       "    </tr>\n",
       "    <tr>\n",
       "      <th>sale_duration</th>\n",
       "      <td>14.13</td>\n",
       "      <td>49.83</td>\n",
       "    </tr>\n",
       "    <tr>\n",
       "      <th>sale_duration2</th>\n",
       "      <td>16.54</td>\n",
       "      <td>53.95</td>\n",
       "    </tr>\n",
       "    <tr>\n",
       "      <th>show_map</th>\n",
       "      <td>0.76</td>\n",
       "      <td>0.85</td>\n",
       "    </tr>\n",
       "    <tr>\n",
       "      <th>user_age</th>\n",
       "      <td>87.15</td>\n",
       "      <td>402.68</td>\n",
       "    </tr>\n",
       "    <tr>\n",
       "      <th>user_created</th>\n",
       "      <td>1,337,804,461.41</td>\n",
       "      <td>1,311,081,741.22</td>\n",
       "    </tr>\n",
       "    <tr>\n",
       "      <th>user_type</th>\n",
       "      <td>1.62</td>\n",
       "      <td>2.82</td>\n",
       "    </tr>\n",
       "    <tr>\n",
       "      <th>venue_latitude</th>\n",
       "      <td>35.97</td>\n",
       "      <td>35.17</td>\n",
       "    </tr>\n",
       "    <tr>\n",
       "      <th>venue_longitude</th>\n",
       "      <td>-43.41</td>\n",
       "      <td>-60.69</td>\n",
       "    </tr>\n",
       "    <tr>\n",
       "      <th>Fraud</th>\n",
       "      <td>1.00</td>\n",
       "      <td>0.00</td>\n",
       "    </tr>\n",
       "  </tbody>\n",
       "</table>\n",
       "</div>"
      ],
      "text/plain": [
       "                             fraud_mean         premium_mean\n",
       "approx_payout_date     1,347,687,343.16     1,351,254,483.07\n",
       "body_length                    1,508.89             3,886.99\n",
       "channels                           4.15                 6.38\n",
       "delivery_method                    0.07                 0.48\n",
       "event_created          1,345,333,444.02     1,345,873,604.53\n",
       "event_end              1,347,255,379.35     1,350,822,491.63\n",
       "event_published        1,318,542,205.95     1,342,905,384.97\n",
       "event_start            1,346,777,043.62     1,350,544,896.48\n",
       "fb_published                       0.02                 0.14\n",
       "gts                            1,911.21             2,481.68\n",
       "has_analytics                      0.00                 0.08\n",
       "has_header                         0.07                 0.21\n",
       "has_logo                           0.65                 0.86\n",
       "name_length                       29.98                42.78\n",
       "num_order                          4.53                30.34\n",
       "num_payouts                        0.58                37.04\n",
       "object_id                  4,700,036.12         4,514,622.62\n",
       "org_facebook                       1.04                 8.63\n",
       "org_twitter                        0.29                 4.69\n",
       "sale_duration                     14.13                49.83\n",
       "sale_duration2                    16.54                53.95\n",
       "show_map                           0.76                 0.85\n",
       "user_age                          87.15               402.68\n",
       "user_created           1,337,804,461.41     1,311,081,741.22\n",
       "user_type                          1.62                 2.82\n",
       "venue_latitude                    35.97                35.17\n",
       "venue_longitude                  -43.41               -60.69\n",
       "Fraud                              1.00                 0.00"
      ]
     },
     "execution_count": 440,
     "metadata": {},
     "output_type": "execute_result"
    }
   ],
   "source": [
    "compare"
   ]
  },
  {
   "cell_type": "markdown",
   "metadata": {},
   "source": [
    "Look at Number of Payouts and Num of Orders for Fraud and not Fraud\n",
    "\n",
    "These 2 columns are likley leakage\n",
    "\n",
    "Maybe Sale duration are leakage as well?"
   ]
  },
  {
   "cell_type": "code",
   "execution_count": 26,
   "metadata": {},
   "outputs": [
    {
     "data": {
      "text/html": [
       "<div>\n",
       "<style scoped>\n",
       "    .dataframe tbody tr th:only-of-type {\n",
       "        vertical-align: middle;\n",
       "    }\n",
       "\n",
       "    .dataframe tbody tr th {\n",
       "        vertical-align: top;\n",
       "    }\n",
       "\n",
       "    .dataframe thead th {\n",
       "        text-align: right;\n",
       "    }\n",
       "</style>\n",
       "<table border=\"1\" class=\"dataframe\">\n",
       "  <thead>\n",
       "    <tr style=\"text-align: right;\">\n",
       "      <th></th>\n",
       "      <th>count</th>\n",
       "      <th>mean</th>\n",
       "      <th>std</th>\n",
       "      <th>min</th>\n",
       "      <th>25%</th>\n",
       "      <th>50%</th>\n",
       "      <th>75%</th>\n",
       "      <th>max</th>\n",
       "    </tr>\n",
       "    <tr>\n",
       "      <th>acct_type</th>\n",
       "      <th></th>\n",
       "      <th></th>\n",
       "      <th></th>\n",
       "      <th></th>\n",
       "      <th></th>\n",
       "      <th></th>\n",
       "      <th></th>\n",
       "      <th></th>\n",
       "    </tr>\n",
       "  </thead>\n",
       "  <tbody>\n",
       "    <tr>\n",
       "      <th>fraudster</th>\n",
       "      <td>437.00</td>\n",
       "      <td>1.54</td>\n",
       "      <td>4.78</td>\n",
       "      <td>0.00</td>\n",
       "      <td>0.00</td>\n",
       "      <td>0.00</td>\n",
       "      <td>0.00</td>\n",
       "      <td>29.00</td>\n",
       "    </tr>\n",
       "    <tr>\n",
       "      <th>fraudster_att</th>\n",
       "      <td>5.00</td>\n",
       "      <td>0.00</td>\n",
       "      <td>0.00</td>\n",
       "      <td>0.00</td>\n",
       "      <td>0.00</td>\n",
       "      <td>0.00</td>\n",
       "      <td>0.00</td>\n",
       "      <td>0.00</td>\n",
       "    </tr>\n",
       "    <tr>\n",
       "      <th>fraudster_event</th>\n",
       "      <td>851.00</td>\n",
       "      <td>0.10</td>\n",
       "      <td>0.61</td>\n",
       "      <td>0.00</td>\n",
       "      <td>0.00</td>\n",
       "      <td>0.00</td>\n",
       "      <td>0.00</td>\n",
       "      <td>11.00</td>\n",
       "    </tr>\n",
       "    <tr>\n",
       "      <th>locked</th>\n",
       "      <td>54.00</td>\n",
       "      <td>25.02</td>\n",
       "      <td>63.11</td>\n",
       "      <td>0.00</td>\n",
       "      <td>0.00</td>\n",
       "      <td>1.00</td>\n",
       "      <td>13.00</td>\n",
       "      <td>314.00</td>\n",
       "    </tr>\n",
       "    <tr>\n",
       "      <th>premium</th>\n",
       "      <td>12,373.00</td>\n",
       "      <td>37.43</td>\n",
       "      <td>132.75</td>\n",
       "      <td>0.00</td>\n",
       "      <td>0.00</td>\n",
       "      <td>2.00</td>\n",
       "      <td>15.00</td>\n",
       "      <td>1,858.00</td>\n",
       "    </tr>\n",
       "    <tr>\n",
       "      <th>spammer</th>\n",
       "      <td>1.00</td>\n",
       "      <td>2.00</td>\n",
       "      <td>nan</td>\n",
       "      <td>2.00</td>\n",
       "      <td>2.00</td>\n",
       "      <td>2.00</td>\n",
       "      <td>2.00</td>\n",
       "      <td>2.00</td>\n",
       "    </tr>\n",
       "    <tr>\n",
       "      <th>spammer_limited</th>\n",
       "      <td>218.00</td>\n",
       "      <td>17.12</td>\n",
       "      <td>29.07</td>\n",
       "      <td>0.00</td>\n",
       "      <td>2.00</td>\n",
       "      <td>6.00</td>\n",
       "      <td>19.75</td>\n",
       "      <td>189.00</td>\n",
       "    </tr>\n",
       "    <tr>\n",
       "      <th>spammer_noinvite</th>\n",
       "      <td>84.00</td>\n",
       "      <td>8.93</td>\n",
       "      <td>12.28</td>\n",
       "      <td>0.00</td>\n",
       "      <td>1.00</td>\n",
       "      <td>4.00</td>\n",
       "      <td>10.75</td>\n",
       "      <td>58.00</td>\n",
       "    </tr>\n",
       "    <tr>\n",
       "      <th>spammer_warn</th>\n",
       "      <td>144.00</td>\n",
       "      <td>63.81</td>\n",
       "      <td>166.02</td>\n",
       "      <td>0.00</td>\n",
       "      <td>2.00</td>\n",
       "      <td>9.00</td>\n",
       "      <td>33.00</td>\n",
       "      <td>811.00</td>\n",
       "    </tr>\n",
       "    <tr>\n",
       "      <th>spammer_web</th>\n",
       "      <td>2.00</td>\n",
       "      <td>2.00</td>\n",
       "      <td>2.83</td>\n",
       "      <td>0.00</td>\n",
       "      <td>1.00</td>\n",
       "      <td>2.00</td>\n",
       "      <td>3.00</td>\n",
       "      <td>4.00</td>\n",
       "    </tr>\n",
       "    <tr>\n",
       "      <th>tos_lock</th>\n",
       "      <td>77.00</td>\n",
       "      <td>23.64</td>\n",
       "      <td>58.44</td>\n",
       "      <td>0.00</td>\n",
       "      <td>0.00</td>\n",
       "      <td>0.00</td>\n",
       "      <td>6.00</td>\n",
       "      <td>290.00</td>\n",
       "    </tr>\n",
       "    <tr>\n",
       "      <th>tos_warn</th>\n",
       "      <td>91.00</td>\n",
       "      <td>34.80</td>\n",
       "      <td>42.71</td>\n",
       "      <td>0.00</td>\n",
       "      <td>0.00</td>\n",
       "      <td>17.00</td>\n",
       "      <td>59.00</td>\n",
       "      <td>193.00</td>\n",
       "    </tr>\n",
       "  </tbody>\n",
       "</table>\n",
       "</div>"
      ],
      "text/plain": [
       "                                count                 mean  \\\n",
       "acct_type                                                    \n",
       "fraudster                      437.00                 1.54   \n",
       "fraudster_att                    5.00                 0.00   \n",
       "fraudster_event                851.00                 0.10   \n",
       "locked                          54.00                25.02   \n",
       "premium                     12,373.00                37.43   \n",
       "spammer                          1.00                 2.00   \n",
       "spammer_limited                218.00                17.12   \n",
       "spammer_noinvite                84.00                 8.93   \n",
       "spammer_warn                   144.00                63.81   \n",
       "spammer_web                      2.00                 2.00   \n",
       "tos_lock                        77.00                23.64   \n",
       "tos_warn                        91.00                34.80   \n",
       "\n",
       "                                  std                  min  \\\n",
       "acct_type                                                    \n",
       "fraudster                        4.78                 0.00   \n",
       "fraudster_att                    0.00                 0.00   \n",
       "fraudster_event                  0.61                 0.00   \n",
       "locked                          63.11                 0.00   \n",
       "premium                        132.75                 0.00   \n",
       "spammer                           nan                 2.00   \n",
       "spammer_limited                 29.07                 0.00   \n",
       "spammer_noinvite                12.28                 0.00   \n",
       "spammer_warn                   166.02                 0.00   \n",
       "spammer_web                      2.83                 0.00   \n",
       "tos_lock                        58.44                 0.00   \n",
       "tos_warn                        42.71                 0.00   \n",
       "\n",
       "                                  25%                  50%  \\\n",
       "acct_type                                                    \n",
       "fraudster                        0.00                 0.00   \n",
       "fraudster_att                    0.00                 0.00   \n",
       "fraudster_event                  0.00                 0.00   \n",
       "locked                           0.00                 1.00   \n",
       "premium                          0.00                 2.00   \n",
       "spammer                          2.00                 2.00   \n",
       "spammer_limited                  2.00                 6.00   \n",
       "spammer_noinvite                 1.00                 4.00   \n",
       "spammer_warn                     2.00                 9.00   \n",
       "spammer_web                      1.00                 2.00   \n",
       "tos_lock                         0.00                 0.00   \n",
       "tos_warn                         0.00                17.00   \n",
       "\n",
       "                                  75%                  max  \n",
       "acct_type                                                   \n",
       "fraudster                        0.00                29.00  \n",
       "fraudster_att                    0.00                 0.00  \n",
       "fraudster_event                  0.00                11.00  \n",
       "locked                          13.00               314.00  \n",
       "premium                         15.00             1,858.00  \n",
       "spammer                          2.00                 2.00  \n",
       "spammer_limited                 19.75               189.00  \n",
       "spammer_noinvite                10.75                58.00  \n",
       "spammer_warn                    33.00               811.00  \n",
       "spammer_web                      3.00                 4.00  \n",
       "tos_lock                         6.00               290.00  \n",
       "tos_warn                        59.00               193.00  "
      ]
     },
     "execution_count": 26,
     "metadata": {},
     "output_type": "execute_result"
    }
   ],
   "source": [
    "data.groupby(\"acct_type\").describe()[\"num_payouts\"]"
   ]
  },
  {
   "cell_type": "code",
   "execution_count": 446,
   "metadata": {},
   "outputs": [
    {
     "data": {
      "text/html": [
       "<div>\n",
       "<style scoped>\n",
       "    .dataframe tbody tr th:only-of-type {\n",
       "        vertical-align: middle;\n",
       "    }\n",
       "\n",
       "    .dataframe tbody tr th {\n",
       "        vertical-align: top;\n",
       "    }\n",
       "\n",
       "    .dataframe thead th {\n",
       "        text-align: right;\n",
       "    }\n",
       "</style>\n",
       "<table border=\"1\" class=\"dataframe\">\n",
       "  <thead>\n",
       "    <tr style=\"text-align: right;\">\n",
       "      <th></th>\n",
       "      <th>count</th>\n",
       "      <th>mean</th>\n",
       "      <th>std</th>\n",
       "      <th>min</th>\n",
       "      <th>25%</th>\n",
       "      <th>50%</th>\n",
       "      <th>75%</th>\n",
       "      <th>max</th>\n",
       "    </tr>\n",
       "    <tr>\n",
       "      <th>acct_type</th>\n",
       "      <th></th>\n",
       "      <th></th>\n",
       "      <th></th>\n",
       "      <th></th>\n",
       "      <th></th>\n",
       "      <th></th>\n",
       "      <th></th>\n",
       "      <th></th>\n",
       "    </tr>\n",
       "  </thead>\n",
       "  <tbody>\n",
       "    <tr>\n",
       "      <th>fraudster</th>\n",
       "      <td>437.00</td>\n",
       "      <td>3.98</td>\n",
       "      <td>7.92</td>\n",
       "      <td>0.00</td>\n",
       "      <td>1.00</td>\n",
       "      <td>2.00</td>\n",
       "      <td>4.00</td>\n",
       "      <td>88.00</td>\n",
       "    </tr>\n",
       "    <tr>\n",
       "      <th>fraudster_att</th>\n",
       "      <td>5.00</td>\n",
       "      <td>4.80</td>\n",
       "      <td>5.89</td>\n",
       "      <td>0.00</td>\n",
       "      <td>0.00</td>\n",
       "      <td>2.00</td>\n",
       "      <td>9.00</td>\n",
       "      <td>13.00</td>\n",
       "    </tr>\n",
       "    <tr>\n",
       "      <th>fraudster_event</th>\n",
       "      <td>851.00</td>\n",
       "      <td>4.81</td>\n",
       "      <td>10.41</td>\n",
       "      <td>0.00</td>\n",
       "      <td>0.00</td>\n",
       "      <td>2.00</td>\n",
       "      <td>5.00</td>\n",
       "      <td>140.00</td>\n",
       "    </tr>\n",
       "    <tr>\n",
       "      <th>locked</th>\n",
       "      <td>54.00</td>\n",
       "      <td>21.94</td>\n",
       "      <td>39.05</td>\n",
       "      <td>1.00</td>\n",
       "      <td>3.00</td>\n",
       "      <td>7.00</td>\n",
       "      <td>24.25</td>\n",
       "      <td>237.00</td>\n",
       "    </tr>\n",
       "    <tr>\n",
       "      <th>premium</th>\n",
       "      <td>12,373.00</td>\n",
       "      <td>30.53</td>\n",
       "      <td>97.96</td>\n",
       "      <td>0.00</td>\n",
       "      <td>3.00</td>\n",
       "      <td>9.00</td>\n",
       "      <td>26.00</td>\n",
       "      <td>2,000.00</td>\n",
       "    </tr>\n",
       "    <tr>\n",
       "      <th>spammer</th>\n",
       "      <td>1.00</td>\n",
       "      <td>6.00</td>\n",
       "      <td>nan</td>\n",
       "      <td>6.00</td>\n",
       "      <td>6.00</td>\n",
       "      <td>6.00</td>\n",
       "      <td>6.00</td>\n",
       "      <td>6.00</td>\n",
       "    </tr>\n",
       "    <tr>\n",
       "      <th>spammer_limited</th>\n",
       "      <td>218.00</td>\n",
       "      <td>36.69</td>\n",
       "      <td>181.98</td>\n",
       "      <td>1.00</td>\n",
       "      <td>3.00</td>\n",
       "      <td>10.00</td>\n",
       "      <td>23.00</td>\n",
       "      <td>2,000.00</td>\n",
       "    </tr>\n",
       "    <tr>\n",
       "      <th>spammer_noinvite</th>\n",
       "      <td>84.00</td>\n",
       "      <td>13.92</td>\n",
       "      <td>21.21</td>\n",
       "      <td>1.00</td>\n",
       "      <td>2.00</td>\n",
       "      <td>6.50</td>\n",
       "      <td>15.25</td>\n",
       "      <td>137.00</td>\n",
       "    </tr>\n",
       "    <tr>\n",
       "      <th>spammer_warn</th>\n",
       "      <td>144.00</td>\n",
       "      <td>36.56</td>\n",
       "      <td>98.67</td>\n",
       "      <td>1.00</td>\n",
       "      <td>4.00</td>\n",
       "      <td>11.50</td>\n",
       "      <td>28.00</td>\n",
       "      <td>899.00</td>\n",
       "    </tr>\n",
       "    <tr>\n",
       "      <th>spammer_web</th>\n",
       "      <td>2.00</td>\n",
       "      <td>3.50</td>\n",
       "      <td>0.71</td>\n",
       "      <td>3.00</td>\n",
       "      <td>3.25</td>\n",
       "      <td>3.50</td>\n",
       "      <td>3.75</td>\n",
       "      <td>4.00</td>\n",
       "    </tr>\n",
       "    <tr>\n",
       "      <th>tos_lock</th>\n",
       "      <td>77.00</td>\n",
       "      <td>6.84</td>\n",
       "      <td>25.67</td>\n",
       "      <td>0.00</td>\n",
       "      <td>0.00</td>\n",
       "      <td>1.00</td>\n",
       "      <td>3.00</td>\n",
       "      <td>167.00</td>\n",
       "    </tr>\n",
       "    <tr>\n",
       "      <th>tos_warn</th>\n",
       "      <td>91.00</td>\n",
       "      <td>20.36</td>\n",
       "      <td>55.63</td>\n",
       "      <td>1.00</td>\n",
       "      <td>2.00</td>\n",
       "      <td>7.00</td>\n",
       "      <td>19.50</td>\n",
       "      <td>484.00</td>\n",
       "    </tr>\n",
       "  </tbody>\n",
       "</table>\n",
       "</div>"
      ],
      "text/plain": [
       "                                count                 mean  \\\n",
       "acct_type                                                    \n",
       "fraudster                      437.00                 3.98   \n",
       "fraudster_att                    5.00                 4.80   \n",
       "fraudster_event                851.00                 4.81   \n",
       "locked                          54.00                21.94   \n",
       "premium                     12,373.00                30.53   \n",
       "spammer                          1.00                 6.00   \n",
       "spammer_limited                218.00                36.69   \n",
       "spammer_noinvite                84.00                13.92   \n",
       "spammer_warn                   144.00                36.56   \n",
       "spammer_web                      2.00                 3.50   \n",
       "tos_lock                        77.00                 6.84   \n",
       "tos_warn                        91.00                20.36   \n",
       "\n",
       "                                  std                  min  \\\n",
       "acct_type                                                    \n",
       "fraudster                        7.92                 0.00   \n",
       "fraudster_att                    5.89                 0.00   \n",
       "fraudster_event                 10.41                 0.00   \n",
       "locked                          39.05                 1.00   \n",
       "premium                         97.96                 0.00   \n",
       "spammer                           nan                 6.00   \n",
       "spammer_limited                181.98                 1.00   \n",
       "spammer_noinvite                21.21                 1.00   \n",
       "spammer_warn                    98.67                 1.00   \n",
       "spammer_web                      0.71                 3.00   \n",
       "tos_lock                        25.67                 0.00   \n",
       "tos_warn                        55.63                 1.00   \n",
       "\n",
       "                                  25%                  50%  \\\n",
       "acct_type                                                    \n",
       "fraudster                        1.00                 2.00   \n",
       "fraudster_att                    0.00                 2.00   \n",
       "fraudster_event                  0.00                 2.00   \n",
       "locked                           3.00                 7.00   \n",
       "premium                          3.00                 9.00   \n",
       "spammer                          6.00                 6.00   \n",
       "spammer_limited                  3.00                10.00   \n",
       "spammer_noinvite                 2.00                 6.50   \n",
       "spammer_warn                     4.00                11.50   \n",
       "spammer_web                      3.25                 3.50   \n",
       "tos_lock                         0.00                 1.00   \n",
       "tos_warn                         2.00                 7.00   \n",
       "\n",
       "                                  75%                  max  \n",
       "acct_type                                                   \n",
       "fraudster                        4.00                88.00  \n",
       "fraudster_att                    9.00                13.00  \n",
       "fraudster_event                  5.00               140.00  \n",
       "locked                          24.25               237.00  \n",
       "premium                         26.00             2,000.00  \n",
       "spammer                          6.00                 6.00  \n",
       "spammer_limited                 23.00             2,000.00  \n",
       "spammer_noinvite                15.25               137.00  \n",
       "spammer_warn                    28.00               899.00  \n",
       "spammer_web                      3.75                 4.00  \n",
       "tos_lock                         3.00               167.00  \n",
       "tos_warn                        19.50               484.00  "
      ]
     },
     "execution_count": 446,
     "metadata": {},
     "output_type": "execute_result"
    }
   ],
   "source": [
    "data.groupby(\"acct_type\").describe()[\"num_order\"]"
   ]
  },
  {
   "cell_type": "markdown",
   "metadata": {},
   "source": [
    "EDA on some columns where the difference between the two group is large"
   ]
  },
  {
   "cell_type": "code",
   "execution_count": 447,
   "metadata": {},
   "outputs": [],
   "source": [
    "fraud = data[data[\"Fraud\"]==1]\n",
    "not_fraud = data[data[\"Fraud\"]==0]"
   ]
  },
  {
   "cell_type": "code",
   "execution_count": 463,
   "metadata": {},
   "outputs": [
    {
     "data": {
      "text/plain": [
       "<matplotlib.axes._subplots.AxesSubplot at 0x161798208>"
      ]
     },
     "execution_count": 463,
     "metadata": {},
     "output_type": "execute_result"
    },
    {
     "data": {
      "image/png": "[encoded data removed]",
      "text/plain": [
       "<Figure size 432x288 with 1 Axes>"
      ]
     },
     "metadata": {
      "needs_background": "light"
     },
     "output_type": "display_data"
    }
   ],
   "source": [
    "sns.boxplot(data.Fraud,data[\"org_twitter\"])"
   ]
  },
  {
   "cell_type": "code",
   "execution_count": 464,
   "metadata": {},
   "outputs": [
    {
     "data": {
      "text/plain": [
       "<matplotlib.axes._subplots.AxesSubplot at 0x1654755c0>"
      ]
     },
     "execution_count": 464,
     "metadata": {},
     "output_type": "execute_result"
    },
    {
     "data": {
      "image/png": "[encoded data removed]",
      "text/plain": [
       "<Figure size 432x288 with 1 Axes>"
      ]
     },
     "metadata": {
      "needs_background": "light"
     },
     "output_type": "display_data"
    }
   ],
   "source": [
    "sns.boxplot(data.Fraud,data[\"user_age\"])"
   ]
  },
  {
   "cell_type": "code",
   "execution_count": 465,
   "metadata": {},
   "outputs": [
    {
     "data": {
      "text/plain": [
       "<matplotlib.axes._subplots.AxesSubplot at 0x166fa3978>"
      ]
     },
     "execution_count": 465,
     "metadata": {},
     "output_type": "execute_result"
    },
    {
     "data": {
      "image/png": "[encoded data removed]",
      "text/plain": [
       "<Figure size 432x288 with 1 Axes>"
      ]
     },
     "metadata": {
      "needs_background": "light"
     },
     "output_type": "display_data"
    }
   ],
   "source": [
    "sns.boxplot(data.Fraud,data[\"org_twitter\"])"
   ]
  },
  {
   "cell_type": "markdown",
   "metadata": {},
   "source": [
    "email domain fraud vs not fraud, fraud use alot more yahoo"
   ]
  },
  {
   "cell_type": "code",
   "execution_count": 467,
   "metadata": {},
   "outputs": [
    {
     "data": {
      "text/plain": [
       "gmail.com         345\n",
       "yahoo.com         284\n",
       "hotmail.com       101\n",
       "ymail.com          44\n",
       "aol.com            40\n",
       "lidf.co.uk         35\n",
       "live.fr            33\n",
       "live.com           33\n",
       "yahoo.co.uk        26\n",
       "rocketmail.com     20\n",
       "Name: email_domain, dtype: int64"
      ]
     },
     "execution_count": 467,
     "metadata": {},
     "output_type": "execute_result"
    }
   ],
   "source": [
    "data[data[\"Fraud\"] == 1][\"email_domain\"].value_counts(\n",
    ").head(10)"
   ]
  },
  {
   "cell_type": "code",
   "execution_count": 468,
   "metadata": {},
   "outputs": [
    {
     "data": {
      "text/plain": [
       "gmail.com            2752\n",
       "yahoo.com             508\n",
       "hotmail.com           298\n",
       "aol.com               158\n",
       "me.com                 71\n",
       "comcast.net            58\n",
       "generalassemb.ly       58\n",
       "kineticevents.com      52\n",
       "live.com               47\n",
       "improvboston.com       46\n",
       "Name: email_domain, dtype: int64"
      ]
     },
     "execution_count": 468,
     "metadata": {},
     "output_type": "execute_result"
    }
   ],
   "source": [
    "data[data[\"Fraud\"] == 0][\"email_domain\"].value_counts(\n",
    ").head(10)"
   ]
  },
  {
   "cell_type": "markdown",
   "metadata": {},
   "source": [
    "### create data for model"
   ]
  },
  {
   "cell_type": "markdown",
   "metadata": {},
   "source": [
    "label econder"
   ]
  },
  {
   "cell_type": "code",
   "execution_count": 515,
   "metadata": {},
   "outputs": [],
   "source": [
    "label = LabelEncoder()\n",
    "email = label.fit_transform(data[\"email_domain\"])\n",
    "data[\"venue_state\"].fillna(\"undefine\",inplace= True)\n",
    "state = label.fit_transform(data[\"venue_state\"])"
   ]
  },
  {
   "cell_type": "code",
   "execution_count": 516,
   "metadata": {},
   "outputs": [],
   "source": [
    "data[\"email_domain2\"]= email\n",
    "data[\"state2\"] = state"
   ]
  },
  {
   "cell_type": "markdown",
   "metadata": {},
   "source": [
    "payout2 for numerical value for payout, use enocer later to fix this"
   ]
  },
  {
   "cell_type": "code",
   "execution_count": 517,
   "metadata": {},
   "outputs": [],
   "source": [
    "data[\"payout_type2\"] = data[\"payout_type\"].map({\"ACH\":1,\"CHECK\":2})"
   ]
  },
  {
   "cell_type": "code",
   "execution_count": 518,
   "metadata": {},
   "outputs": [],
   "source": [
    "data[\"payout_type2\"].fillna(3,inplace = True)"
   ]
  },
  {
   "cell_type": "markdown",
   "metadata": {},
   "source": [
    "Feature Used.\n",
    "\n",
    "\"body_length\",\"channels\",\"delivery_method\",\"fb_published\",\"gts\",\"org_facebook\",\"org_twitter\",\"user_age\",\"has_header\"\n",
    "\n",
    "\"venue_longitude\",\"payout_type2\",\"user_type\",\"user_created\",\"name_length\",'email_domain2'\n"
   ]
  },
  {
   "cell_type": "code",
   "execution_count": 595,
   "metadata": {},
   "outputs": [],
   "source": [
    "y = data[\"Fraud\"]\n",
    "X = data[[\"body_length\",\"channels\",\"delivery_method\",\"fb_published\",\n",
    "          \"gts\",\"org_facebook\",\"org_twitter\",\"user_age\",\"has_header\",\"venue_longitude\",\"payout_type2\",\"user_type\",\"user_created\",\"name_length\",\n",
    "          'email_domain2',\"sale_duration\"]]\n",
    "\n",
    "\n",
    "\n"
   ]
  },
  {
   "cell_type": "markdown",
   "metadata": {},
   "source": [
    "fill all header nan with na, the rest with median"
   ]
  },
  {
   "cell_type": "code",
   "execution_count": 596,
   "metadata": {},
   "outputs": [],
   "source": [
    "df = pd.concat([y,X],axis =1)\n",
    "df[\"has_header\"].fillna(0,inplace=True)\n",
    "df.fillna(df.median(),inplace= True)"
   ]
  },
  {
   "cell_type": "code",
   "execution_count": 597,
   "metadata": {},
   "outputs": [],
   "source": [
    "y = df[\"Fraud\"]\n",
    "X = df[[\"body_length\",\"channels\",\"delivery_method\",\n",
    "        \"fb_published\",\"gts\",\"org_facebook\",\"org_twitter\",\"user_age\",\"has_header\",\"venue_longitude\",\"payout_type2\",\"user_type\",\"user_created\",\"name_length\",'email_domain2',\"sale_duration\"]]\n",
    "\n",
    "\n"
   ]
  },
  {
   "cell_type": "code",
   "execution_count": 598,
   "metadata": {},
   "outputs": [],
   "source": [
    "X_train, X_test, y_train, y_test = train_test_split(X, y,\n",
    "    test_size=0.3, random_state=101,stratify =y)"
   ]
  },
  {
   "cell_type": "markdown",
   "metadata": {},
   "source": [
    "random forest model with 1000 trees"
   ]
  },
  {
   "cell_type": "code",
   "execution_count": 599,
   "metadata": {},
   "outputs": [
    {
     "name": "stdout",
     "output_type": "stream",
     "text": [
      "              precision    recall  f1-score   support\n",
      "\n",
      "           0       0.98      0.99      0.99      3914\n",
      "           1       0.93      0.82      0.87       388\n",
      "\n",
      "   micro avg       0.98      0.98      0.98      4302\n",
      "   macro avg       0.96      0.91      0.93      4302\n",
      "weighted avg       0.98      0.98      0.98      4302\n",
      "\n"
     ]
    }
   ],
   "source": [
    "rf = RandomForestClassifier(n_estimators=1000)\n",
    "rf_model = rf.fit(X_train,y_train)\n",
    "print(classification_report(y_test,rf_model.predict(X_test)))"
   ]
  },
  {
   "cell_type": "code",
   "execution_count": 483,
   "metadata": {},
   "outputs": [
    {
     "data": {
      "text/plain": [
       "<BarContainer object of 15 artists>"
      ]
     },
     "execution_count": 483,
     "metadata": {},
     "output_type": "execute_result"
    },
    {
     "data": {
      "image/png": "[encoded data removed]",
      "text/plain": [
       "<Figure size 432x288 with 1 Axes>"
      ]
     },
     "metadata": {
      "needs_background": "light"
     },
     "output_type": "display_data"
    }
   ],
   "source": [
    "feat = pd.DataFrame()\n",
    "feat[\"Featues\"] = X.columns\n",
    "feat[\"Importance\"] = rf.feature_importances_\n",
    "feat.sort_values(\"Importance\",inplace = True)\n",
    "plt.barh(feat.Featues,feat.Importance)"
   ]
  },
  {
   "cell_type": "markdown",
   "metadata": {},
   "source": [
    "### Tune Hypterparameter"
   ]
  },
  {
   "cell_type": "code",
   "execution_count": 605,
   "metadata": {},
   "outputs": [
    {
     "name": "stdout",
     "output_type": "stream",
     "text": [
      "              precision    recall  f1-score   support\n",
      "\n",
      "           0       0.98      0.99      0.99      3914\n",
      "           1       0.93      0.81      0.87       388\n",
      "\n",
      "   micro avg       0.98      0.98      0.98      4302\n",
      "   macro avg       0.96      0.90      0.93      4302\n",
      "weighted avg       0.98      0.98      0.98      4302\n",
      "\n"
     ]
    }
   ],
   "source": [
    "rf = RandomForestClassifier(n_estimators=1000,max_features=9)\n",
    "rf_model = rf.fit(X_train,y_train)\n",
    "print(classification_report(y_test,rf_model.predict(X_test)))"
   ]
  },
  {
   "cell_type": "code",
   "execution_count": 526,
   "metadata": {},
   "outputs": [
    {
     "name": "stdout",
     "output_type": "stream",
     "text": [
      "              precision    recall  f1-score   support\n",
      "\n",
      "           0       0.97      0.99      0.98      3914\n",
      "           1       0.91      0.73      0.81       388\n",
      "\n",
      "   micro avg       0.97      0.97      0.97      4302\n",
      "   macro avg       0.94      0.86      0.90      4302\n",
      "weighted avg       0.97      0.97      0.97      4302\n",
      "\n"
     ]
    }
   ],
   "source": [
    "rf = RandomForestClassifier(n_estimators=1000,max_features=10,max_depth=15)\n",
    "rf_model = rf.fit(X_train,y_train)\n",
    "print(classification_report(y_test,rf_model.predict(X_test)))"
   ]
  },
  {
   "cell_type": "markdown",
   "metadata": {},
   "source": [
    "Gradient BOost"
   ]
  },
  {
   "cell_type": "code",
   "execution_count": 606,
   "metadata": {},
   "outputs": [
    {
     "name": "stdout",
     "output_type": "stream",
     "text": [
      "              precision    recall  f1-score   support\n",
      "\n",
      "           0       0.99      0.99      0.99      3914\n",
      "           1       0.91      0.86      0.88       388\n",
      "\n",
      "   micro avg       0.98      0.98      0.98      4302\n",
      "   macro avg       0.95      0.92      0.94      4302\n",
      "weighted avg       0.98      0.98      0.98      4302\n",
      "\n"
     ]
    }
   ],
   "source": [
    "gb= GradientBoostingClassifier(learning_rate=0.21,n_estimators=1000)\n",
    "gb_model = gb.fit(X_train,y_train)\n",
    "print(classification_report(y_test,gb_model.predict(X_test)))"
   ]
  },
  {
   "cell_type": "code",
   "execution_count": 607,
   "metadata": {},
   "outputs": [
    {
     "name": "stdout",
     "output_type": "stream",
     "text": [
      "              precision    recall  f1-score   support\n",
      "\n",
      "           0       0.99      0.99      0.99      3914\n",
      "           1       0.92      0.85      0.88       388\n",
      "\n",
      "   micro avg       0.98      0.98      0.98      4302\n",
      "   macro avg       0.95      0.92      0.94      4302\n",
      "weighted avg       0.98      0.98      0.98      4302\n",
      "\n"
     ]
    }
   ],
   "source": [
    "gb= GradientBoostingClassifier(learning_rate=0.32,n_estimators=1000)\n",
    "gb_model = gb.fit(X_train,y_train)\n",
    "print(classification_report(y_test,gb_model.predict(X_test)))"
   ]
  },
  {
   "cell_type": "code",
   "execution_count": 608,
   "metadata": {},
   "outputs": [
    {
     "name": "stdout",
     "output_type": "stream",
     "text": [
      "              precision    recall  f1-score   support\n",
      "\n",
      "           0       0.99      0.99      0.99      3914\n",
      "           1       0.93      0.86      0.89       388\n",
      "\n",
      "   micro avg       0.98      0.98      0.98      4302\n",
      "   macro avg       0.96      0.93      0.94      4302\n",
      "weighted avg       0.98      0.98      0.98      4302\n",
      "\n"
     ]
    }
   ],
   "source": [
    "gb= GradientBoostingClassifier(learning_rate=0.2,n_estimators=800)\n",
    "gb_model = gb.fit(X_train,y_train)\n",
    "print(classification_report(y_test,gb_model.predict(X_test)))"
   ]
  },
  {
   "cell_type": "markdown",
   "metadata": {},
   "source": [
    "### Best Model"
   ]
  },
  {
   "cell_type": "code",
   "execution_count": 609,
   "metadata": {},
   "outputs": [
    {
     "name": "stdout",
     "output_type": "stream",
     "text": [
      "              precision    recall  f1-score   support\n",
      "\n",
      "           0       0.99      0.99      0.99      3914\n",
      "           1       0.93      0.86      0.89       388\n",
      "\n",
      "   micro avg       0.98      0.98      0.98      4302\n",
      "   macro avg       0.96      0.93      0.94      4302\n",
      "weighted avg       0.98      0.98      0.98      4302\n",
      "\n"
     ]
    }
   ],
   "source": [
    "gb= GradientBoostingClassifier(learning_rate=0.23,n_estimators=700)\n",
    "gb_model = gb.fit(X_train,y_train)\n",
    "print(classification_report(y_test,gb_model.predict(X_test)))"
   ]
  },
  {
   "cell_type": "markdown",
   "metadata": {},
   "source": [
    "### Set my Own threshold"
   ]
  },
  {
   "cell_type": "code",
   "execution_count": 610,
   "metadata": {},
   "outputs": [],
   "source": [
    "result = pd.DataFrame(gb_model.predict_proba(X_test), columns=[[\"Not_Fraud\",\"Fraud\"]])"
   ]
  },
  {
   "cell_type": "code",
   "execution_count": 611,
   "metadata": {},
   "outputs": [],
   "source": [
    "result[\"True\"] = y_test.reset_index()[\"Fraud\"]"
   ]
  },
  {
   "cell_type": "code",
   "execution_count": 612,
   "metadata": {},
   "outputs": [],
   "source": [
    "def my_threshold(x,prob):\n",
    "    return x>= prob"
   ]
  },
  {
   "cell_type": "code",
   "execution_count": 613,
   "metadata": {},
   "outputs": [],
   "source": [
    "result[\"Threshold_0.1\"] = my_threshold(result[\"Fraud\"],0.1).astype(int)\n",
    "result[\"Threshold_0.15\"] = my_threshold(result[\"Fraud\"],0.15).astype(int)\n",
    "result[\"Threshold_0.2\"] = my_threshold(result[\"Fraud\"],0.2).astype(int)\n",
    "result[\"Threshold_0.25\"] = my_threshold(result[\"Fraud\"],0.25).astype(int)\n",
    "result[\"Threshold_0.35\"] = my_threshold(result[\"Fraud\"],0.35).astype(int)"
   ]
  },
  {
   "cell_type": "code",
   "execution_count": 614,
   "metadata": {},
   "outputs": [
    {
     "name": "stdout",
     "output_type": "stream",
     "text": [
      "Threshold_0.1:\n",
      "              precision    recall  f1-score   support\n",
      "\n",
      "           0       0.99      0.99      0.99      3914\n",
      "           1       0.87      0.90      0.88       388\n",
      "\n",
      "   micro avg       0.98      0.98      0.98      4302\n",
      "   macro avg       0.93      0.94      0.94      4302\n",
      "weighted avg       0.98      0.98      0.98      4302\n",
      "\n",
      "Threshold_0.15\n",
      "              precision    recall  f1-score   support\n",
      "\n",
      "           0       0.99      0.99      0.99      3914\n",
      "           1       0.89      0.89      0.89       388\n",
      "\n",
      "   micro avg       0.98      0.98      0.98      4302\n",
      "   macro avg       0.94      0.94      0.94      4302\n",
      "weighted avg       0.98      0.98      0.98      4302\n",
      "\n",
      "Threshold_0.2\n",
      "              precision    recall  f1-score   support\n",
      "\n",
      "           0       0.99      0.99      0.99      3914\n",
      "           1       0.89      0.89      0.89       388\n",
      "\n",
      "   micro avg       0.98      0.98      0.98      4302\n",
      "   macro avg       0.94      0.94      0.94      4302\n",
      "weighted avg       0.98      0.98      0.98      4302\n",
      "\n",
      "Threshold_0.25\n",
      "              precision    recall  f1-score   support\n",
      "\n",
      "           0       0.99      0.99      0.99      3914\n",
      "           1       0.91      0.88      0.89       388\n",
      "\n",
      "   micro avg       0.98      0.98      0.98      4302\n",
      "   macro avg       0.95      0.94      0.94      4302\n",
      "weighted avg       0.98      0.98      0.98      4302\n",
      "\n",
      "Threshold_0.35\n",
      "              precision    recall  f1-score   support\n",
      "\n",
      "           0       0.99      0.99      0.99      3914\n",
      "           1       0.91      0.87      0.89       388\n",
      "\n",
      "   micro avg       0.98      0.98      0.98      4302\n",
      "   macro avg       0.95      0.93      0.94      4302\n",
      "weighted avg       0.98      0.98      0.98      4302\n",
      "\n"
     ]
    }
   ],
   "source": [
    "print(\"Threshold_0.1:\")\n",
    "print(classification_report(y_test,result[\"Threshold_0.1\"] ))\n",
    "print(\"Threshold_0.15\")\n",
    "print(classification_report(y_test,result[\"Threshold_0.15\"] ))\n",
    "print(\"Threshold_0.2\")\n",
    "print(classification_report(y_test,result[\"Threshold_0.2\"] ))\n",
    "print(\"Threshold_0.25\")\n",
    "print(classification_report(y_test,result[\"Threshold_0.25\"] ))\n",
    "print(\"Threshold_0.35\")\n",
    "print(classification_report(y_test,result[\"Threshold_0.35\"] ))"
   ]
  },
  {
   "cell_type": "code",
   "execution_count": 512,
   "metadata": {
    "scrolled": true
   },
   "outputs": [
    {
     "data": {
      "text/plain": [
       "           133\n",
       "FL          88\n",
       "NY          70\n",
       "CA          64\n",
       "London      57\n",
       "Gt Lon      42\n",
       "TX          37\n",
       "GA          25\n",
       "PA          25\n",
       "England     18\n",
       "Name: venue_state, dtype: int64"
      ]
     },
     "execution_count": 512,
     "metadata": {},
     "output_type": "execute_result"
    }
   ],
   "source": [
    "data[data[\"Fraud\"] == 1][\"venue_state\"].value_counts().head(10)"
   ]
  },
  {
   "cell_type": "code",
   "execution_count": 510,
   "metadata": {},
   "outputs": [
    {
     "data": {
      "text/plain": [
       "                                           2492\n",
       "CA                                         1313\n",
       "NY                                          692\n",
       "TX                                          450\n",
       "IL                                          337\n",
       "FL                                          318\n",
       "London                                      275\n",
       "MA                                          255\n",
       "Ontario                                     245\n",
       "Gt Lon                                      210\n",
       "GA                                          208\n",
       "WA                                          195\n",
       "ON                                          191\n",
       "NC                                          189\n",
       "PA                                          185\n",
       "CO                                          185\n",
       "VA                                          184\n",
       "OH                                          178\n",
       "MD                                          165\n",
       "England                                     156\n",
       "DC                                          151\n",
       "NJ                                          144\n",
       "British Columbia                            142\n",
       "MI                                          140\n",
       "NSW                                         133\n",
       "MN                                          126\n",
       "IN                                          118\n",
       "AZ                                          112\n",
       "BC                                          108\n",
       "TN                                           98\n",
       "                                           ... \n",
       "Bracknell Forest                              1\n",
       "Derby                                         1\n",
       "AUSTRALIA                                     1\n",
       "Saint-Paul                                    1\n",
       "Luxembourg                                    1\n",
       "West Yorkshire                                1\n",
       "Coventry                                      1\n",
       "Fife                                          1\n",
       "Sunderland                                    1\n",
       "Lincoln                                       1\n",
       "Co Antrim                                     1\n",
       "ALAKSA                                        1\n",
       "Shanghai                                      1\n",
       "Wirral                                        1\n",
       "Scottish Borders                              1\n",
       "Co. Kildare                                   1\n",
       "Ad Dawhah                                     1\n",
       "Esteli                                        1\n",
       "Lanarkshire                                   1\n",
       "Auvergne                                      1\n",
       "Cumb                                          1\n",
       "KZN                                           1\n",
       "Oxon                                          1\n",
       "Royal Borough of Kensington and Chelsea       1\n",
       "Stockholm County                              1\n",
       "North Yorkshire                               1\n",
       "Flevoland                                     1\n",
       "HAWAII  96815                                 1\n",
       "Western Cape                                  1\n",
       "Whangarei                                     1\n",
       "Name: venue_state, Length: 385, dtype: int64"
      ]
     },
     "execution_count": 510,
     "metadata": {},
     "output_type": "execute_result"
    }
   ],
   "source": [
    "data[data[\"Fraud\"] == 0][\"venue_state\"].value_counts()"
   ]
  },
  {
   "cell_type": "code",
   "execution_count": null,
   "metadata": {},
   "outputs": [],
   "source": [
    "import requests\n",
    "import time"
   ]
  },
  {
   "cell_type": "code",
   "execution_count": 562,
   "metadata": {},
   "outputs": [],
   "source": [
    "class EventAPIClient:\n",
    "    \"\"\"Realtime Events API Client\"\"\"\n",
    "    \n",
    "    def __init__(self, first_sequence_number=0,\n",
    "                 api_url = 'https://hxobin8em5.execute-api.us-west-2.amazonaws.com/api/',\n",
    "                 api_key = 'vYm9mTUuspeyAWH1v-acfoTlck-tCxwTw9YfCynC',\n",
    "                 db = None):\n",
    "        \"\"\"Initialize the API client.\"\"\"\n",
    "        self.next_sequence_number = first_sequence_number\n",
    "        self.api_url = api_url\n",
    "        self.api_key = api_key\n",
    "        \n",
    "    def save_to_database(self, row):\n",
    "        \"\"\"Save a data row to the database.\"\"\"\n",
    "        print(\"Received data:\\n\" + repr(row) + \"\\n\")  # replace this with your code\n",
    "\n",
    "    def get_data(self):\n",
    "        \"\"\"Fetch data from the API.\"\"\"\n",
    "        payload = {'api_key': self.api_key,\n",
    "                   'sequence_number': self.next_sequence_number}\n",
    "        response = requests.post(self.api_url, json=payload)\n",
    "        data = response.json()\n",
    "        self.next_sequence_number = data['_next_sequence_number']\n",
    "        return data['data']\n",
    "    \n",
    "    def collect(self, interval=30):\n",
    "        \"\"\"Check for new data from the API periodically.\"\"\"\n",
    "        while True:\n",
    "            print(\"Requesting data...\")\n",
    "            data = self.get_data()\n",
    "            if data:\n",
    "                print(\"Saving...\")\n",
    "                for row in data:\n",
    "                    self.save_to_database(row)\n",
    "            else:\n",
    "                print(\"No new data received.\")\n",
    "            print(f\"Waiting {interval} seconds...\")\n",
    "            time.sleep(interval)\n",
    "\n",
    "\n",
    "# Usage Example\n"
   ]
  },
  {
   "cell_type": "code",
   "execution_count": 557,
   "metadata": {
    "scrolled": true
   },
   "outputs": [],
   "source": [
    "client = EventAPIClient()\n",
    "test = client.get_data()"
   ]
  },
  {
   "cell_type": "code",
   "execution_count": 572,
   "metadata": {},
   "outputs": [],
   "source": [
    "test_data = pd.DataFrame(test)"
   ]
  },
  {
   "cell_type": "code",
   "execution_count": 573,
   "metadata": {},
   "outputs": [
    {
     "data": {
      "text/plain": [
       "Index(['body_length', 'channels', 'country', 'currency', 'delivery_method',\n",
       "       'description', 'email_domain', 'event_created', 'event_end',\n",
       "       'event_published', 'event_start', 'fb_published', 'has_analytics',\n",
       "       'has_header', 'has_logo', 'listed', 'name', 'name_length', 'object_id',\n",
       "       'org_desc', 'org_facebook', 'org_name', 'org_twitter', 'payee_name',\n",
       "       'payout_type', 'previous_payouts', 'sale_duration', 'sequence_number',\n",
       "       'show_map', 'ticket_types', 'user_age', 'user_created', 'user_type',\n",
       "       'venue_address', 'venue_country', 'venue_latitude', 'venue_longitude',\n",
       "       'venue_name', 'venue_state'],\n",
       "      dtype='object')"
      ]
     },
     "execution_count": 573,
     "metadata": {},
     "output_type": "execute_result"
    }
   ],
   "source": [
    "test_data.columns"
   ]
  },
  {
   "cell_type": "code",
   "execution_count": 583,
   "metadata": {},
   "outputs": [],
   "source": [
    "a = list(data.columns)\n",
    "b = list(test_data.columns)"
   ]
  },
  {
   "cell_type": "code",
   "execution_count": 584,
   "metadata": {},
   "outputs": [
    {
     "data": {
      "text/plain": [
       "['state2',\n",
       " 'payout_type2',\n",
       " 'email_domain2',\n",
       " 'gts',\n",
       " 'approx_payout_date',\n",
       " 'num_order',\n",
       " 'num_payouts',\n",
       " 'sale_duration2',\n",
       " 'acct_type',\n",
       " 'Fraud']"
      ]
     },
     "execution_count": 584,
     "metadata": {},
     "output_type": "execute_result"
    }
   ],
   "source": [
    "list(set(a) - set(b))"
   ]
  },
  {
   "cell_type": "code",
   "execution_count": null,
   "metadata": {},
   "outputs": [],
   "source": []
  }
 ],
 "metadata": {
  "kernelspec": {
   "display_name": "Python 3",
   "language": "python",
   "name": "python3"
  },
  "language_info": {
   "codemirror_mode": {
    "name": "ipython",
    "version": 3
   },
   "file_extension": ".py",
   "mimetype": "text/x-python",
   "name": "python",
   "nbconvert_exporter": "python",
   "pygments_lexer": "ipython3",
   "version": "3.7.1"
  }
 },
 "nbformat": 4,
 "nbformat_minor": 2
}
